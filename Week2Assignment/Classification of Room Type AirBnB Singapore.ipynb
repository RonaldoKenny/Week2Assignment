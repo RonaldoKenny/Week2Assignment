{
 "cells": [
  {
   "cell_type": "markdown",
   "metadata": {},
   "source": [
    "Machine Learning Classification - AirBnB Singapore\n",
    "\n",
    "Bryan Leonardo 2201745004\n",
    "Rio Nagano 2201767232\n",
    "Ronaldo Kenny Chandra 2201763234"
   ]
  },
  {
   "cell_type": "code",
   "execution_count": 12,
   "metadata": {},
   "outputs": [],
   "source": [
    "import pandas as pd\n",
    "import numpy as np\n",
    "from sklearn.neighbors import KNeighborsClassifier\n",
    "from sklearn.metrics import accuracy_score, mean_squared_error, mean_absolute_error\n",
    "from sklearn import preprocessing\n",
    "from sklearn.model_selection import train_test_split"
   ]
  },
  {
   "cell_type": "markdown",
   "metadata": {},
   "source": [
    "Load & profile the data"
   ]
  },
  {
   "cell_type": "code",
   "execution_count": 13,
   "metadata": {},
   "outputs": [
    {
     "name": "stdout",
     "output_type": "stream",
     "text": [
      "id int64\n",
      "name object\n",
      "host_id int64\n",
      "host_name object\n",
      "neighbourhood_group object\n",
      "neighbourhood object\n",
      "latitude float64\n",
      "longitude float64\n",
      "room_type object\n",
      "price int64\n",
      "minimum_nights int64\n",
      "number_of_reviews int64\n",
      "last_review object\n",
      "reviews_per_month float64\n",
      "calculated_host_listings_count int64\n",
      "availability_365 int64\n"
     ]
    }
   ],
   "source": [
    "initData = pd.read_csv('listings.csv', delimiter = \",\")\n",
    "\n",
    "initData = initData.dropna()\n",
    "\n",
    "for i in initData:\n",
    "  print(i, initData[i].dtypes)\n",
    "  if initData[i].isna().values.any() and initData[i].dtypes != object:\n",
    "      initData[i] = initData[i].fillna(initData[i].mean())\n",
    "\n",
    "train, test = train_test_split(initData, test_size=0.1)"
   ]
  },
  {
   "cell_type": "markdown",
   "metadata": {},
   "source": [
    "Training Process"
   ]
  },
  {
   "cell_type": "code",
   "execution_count": 14,
   "metadata": {},
   "outputs": [],
   "source": [
    "KNN = KNeighborsClassifier(n_neighbors = 3).fit(train[[\"price\", \"minimum_nights\"]], train[\"room_type\"])"
   ]
  },
  {
   "cell_type": "markdown",
   "metadata": {},
   "source": [
    "Clasify new data & evaluate the model"
   ]
  },
  {
   "cell_type": "code",
   "execution_count": 15,
   "metadata": {},
   "outputs": [
    {
     "name": "stdout",
     "output_type": "stream",
     "text": [
      "Predicting room type with SGD 100 and 12 minimum nights =  ['Entire home/apt']\n",
      " ACC : 0.82\n",
      " MAE : 0.19\n",
      " MSE : 0.20\n"
     ]
    }
   ],
   "source": [
    "newClassification = KNN.predict([[100,12]])\n",
    "print(\"Predicting room type with SGD 100 and 12 minimum nights = \" , newClassification)\n",
    "\n",
    "classification = KNN.predict(test[[\"price\", \"minimum_nights\"]])\n",
    "\n",
    "# test[\"room_type\"] and classification returns string value of Room Type, \n",
    "# use LabelEncoder() to convert string to numbers\n",
    "ec = preprocessing.LabelEncoder()\n",
    "roomtype_ec = ec.fit_transform(test[\"room_type\"])\n",
    "classify_ec = ec.fit_transform(classification)\n",
    "\n",
    "accuracy = accuracy_score(roomtype_ec, classify_ec)\n",
    "MAE = mean_absolute_error(roomtype_ec, classify_ec)\n",
    "MSE = mean_squared_error(roomtype_ec, classify_ec)\n",
    "\n",
    "print(\" ACC : %.2f\" % accuracy)\n",
    "print(\" MAE : %.2f\" % MAE)\n",
    "print(\" MSE : %.2f\" % MSE)"
   ]
  },
  {
   "cell_type": "markdown",
   "metadata": {},
   "source": [
    "Identify the best K"
   ]
  },
  {
   "cell_type": "code",
   "execution_count": 16,
   "metadata": {},
   "outputs": [
    {
     "name": "stdout",
     "output_type": "stream",
     "text": [
      "Best  ACC : 0.82 , with k =  1\n"
     ]
    }
   ],
   "source": [
    "Ks = 2500\n",
    "accuracy = np.zeros((Ks-1))\n",
    "ConfustionMx = [];\n",
    "for n in range(1, Ks):    \n",
    "    KNN = KNeighborsClassifier(n_neighbors = 3).fit(train[[\"price\", \"minimum_nights\"]], train[\"room_type\"])\n",
    "    classification = KNN.predict(test[[\"price\", \"minimum_nights\"]])\n",
    "    roomtype_ec = ec.fit_transform(test[\"room_type\"])\n",
    "    classify_ec = ec.fit_transform(classification)\n",
    "    accuracy[n - 1] = accuracy_score(roomtype_ec, classify_ec)\n",
    "    \n",
    "print(\"Best  ACC : %.2f\" % accuracy.max(), \", with k = \", accuracy.argmax() + 1)"
   ]
  },
  {
   "cell_type": "markdown",
   "metadata": {},
   "source": [
    "###"
   ]
  }
 ],
 "metadata": {
  "kernelspec": {
   "display_name": "Python 3",
   "language": "python",
   "name": "python3"
  },
  "language_info": {
   "codemirror_mode": {
    "name": "ipython",
    "version": 3
   },
   "file_extension": ".py",
   "mimetype": "text/x-python",
   "name": "python",
   "nbconvert_exporter": "python",
   "pygments_lexer": "ipython3",
   "version": "3.7.4"
  }
 },
 "nbformat": 4,
 "nbformat_minor": 2
}
